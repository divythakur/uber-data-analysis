{
 "cells": [
  {
   "cell_type": "code",
   "execution_count": 2,
   "metadata": {},
   "outputs": [],
   "source": [
    "import numpy as np\n",
    "import pandas as pd\n",
    "import matplotlib.pyplot as plt\n",
    "import seaborn as sns\n",
    "%matplotlib inline"
   ]
  },
  {
   "cell_type": "code",
   "execution_count": 3,
   "metadata": {},
   "outputs": [],
   "source": [
    "import os\n",
    "uber=os.getcwd()+\"/Uber Request Data.csv\"\n",
    "uber=pd.read_csv(uber)\n"
   ]
  },
  {
   "cell_type": "code",
   "execution_count": 4,
   "metadata": {},
   "outputs": [],
   "source": [
    "new=uber['Request timestamp'].str.split(\" \",n=1,expand=True)\n",
    "uber['Request date']=new[0]\n",
    "uber['Request time']=new[1]\n",
    "new1=uber['Drop timestamp'].str.split(\" \",n=1,expand=True)\n",
    "uber['Drop date']=new1[0]\n",
    "uber['Drop time']=new1[1]\n"
   ]
  },
  {
   "cell_type": "code",
   "execution_count": 5,
   "metadata": {},
   "outputs": [],
   "source": [
    "#THESE COLUMNS ARE OF NO USE NOW\n",
    "uber=uber.drop(['Drop timestamp'],axis=1)\n",
    "uber=uber.drop(['Request timestamp'],axis=1)\n"
   ]
  },
  {
   "cell_type": "code",
   "execution_count": 6,
   "metadata": {},
   "outputs": [],
   "source": [
    "#AS WE HAVE NO ROLE OF DROP DATE AND DROP TIME IN VISUALLIZING THE MAIN FACTORS WHICH ARE\n",
    "#AFFECTING THE FINANCIAL CONDITION OF THE COMPANY  SO THESE COLUMNS SHOULD BE\n",
    "#DROPPED\n",
    "uber=uber.drop(['Drop time'],axis=1)\n",
    "uber=uber.drop(['Drop date'],axis=1)"
   ]
  },
  {
   "cell_type": "code",
   "execution_count": 7,
   "metadata": {},
   "outputs": [],
   "source": [
    "table9 = pd.crosstab(index=uber[\"Status\"], \n",
    "                          columns=uber[\"Driver id\"].loc[uber[\"Driver id\"]==[84]])\n"
   ]
  },
  {
   "cell_type": "code",
   "execution_count": 9,
   "metadata": {},
   "outputs": [
    {
     "data": {
      "text/html": [
       "<div>\n",
       "<style scoped>\n",
       "    .dataframe tbody tr th:only-of-type {\n",
       "        vertical-align: middle;\n",
       "    }\n",
       "\n",
       "    .dataframe tbody tr th {\n",
       "        vertical-align: top;\n",
       "    }\n",
       "\n",
       "    .dataframe thead th {\n",
       "        text-align: right;\n",
       "    }\n",
       "</style>\n",
       "<table border=\"1\" class=\"dataframe\">\n",
       "  <thead>\n",
       "    <tr style=\"text-align: right;\">\n",
       "      <th>Driver id</th>\n",
       "      <th>84.0</th>\n",
       "    </tr>\n",
       "    <tr>\n",
       "      <th>Status</th>\n",
       "      <th></th>\n",
       "    </tr>\n",
       "  </thead>\n",
       "  <tbody>\n",
       "    <tr>\n",
       "      <th>Cancelled</th>\n",
       "      <td>12</td>\n",
       "    </tr>\n",
       "    <tr>\n",
       "      <th>Trip Completed</th>\n",
       "      <td>9</td>\n",
       "    </tr>\n",
       "  </tbody>\n",
       "</table>\n",
       "</div>"
      ],
      "text/plain": [
       "Driver id       84.0\n",
       "Status              \n",
       "Cancelled         12\n",
       "Trip Completed     9"
      ]
     },
     "execution_count": 9,
     "metadata": {},
     "output_type": "execute_result"
    }
   ],
   "source": [
    "table9\n",
    "#WE CAN SEE THAT MOST OF THE CARS CANCELLED IS FROM (DRIVER ID ==84) ,THERE CAN BE SOME \n",
    "#REASONS LIKE HE TAKES MUCH TIME TO PICK UP THE CUSTOMER ,HIS BEHAVIOUR ,SO HE SHOULD BE\n",
    "#MONITORED"
   ]
  },
  {
   "cell_type": "code",
   "execution_count": 19,
   "metadata": {},
   "outputs": [],
   "source": [
    "#WE ARE FOCUSSING ON THE POINT WHY AND WHERE MOST OF THE CABS WERE NOT AVAILABLE\n",
    "#SO THE COLUMN [DRIVER ID] IS OF NO USE AND WE SHOULD DROP IT\n",
    "uber=uber.drop(['Driver id'],axis=1)"
   ]
  },
  {
   "cell_type": "code",
   "execution_count": 20,
   "metadata": {},
   "outputs": [
    {
     "data": {
      "text/plain": [
       "<matplotlib.axes._subplots.AxesSubplot at 0x7f370837b748>"
      ]
     },
     "execution_count": 20,
     "metadata": {},
     "output_type": "execute_result"
    },
    {
     "data": {
      "image/png": "[encoded data removed]",
      "text/plain": [
       "<Figure size 432x288 with 1 Axes>"
      ]
     },
     "metadata": {
      "needs_background": "light"
     },
     "output_type": "display_data"
    }
   ],
   "source": [
    "uber['Request date'].value_counts().plot.bar()\n",
    "#WE CAN OBSERVE FROM THE COUNT PLOT THAT THE CUSTOMERS HAVE REQUESTED FOR UBER MOSTLY \n",
    "#ON DATE 11/7/2016 AND 15/07/2016 SO THE COMPANY SHOULD TAKE THIS AS A NOTE AND MORE\n",
    "#CARS SHOULD BE AVAILABE ON THESE DATES"
   ]
  },
  {
   "cell_type": "code",
   "execution_count": 6,
   "metadata": {},
   "outputs": [
    {
     "data": {
      "text/plain": [
       "<matplotlib.axes._subplots.AxesSubplot at 0x7f370f4bfb00>"
      ]
     },
     "execution_count": 6,
     "metadata": {},
     "output_type": "execute_result"
    },
    {
     "data": {
      "image/png": "[encoded data removed]",
      "text/plain": [
       "<Figure size 432x288 with 1 Axes>"
      ]
     },
     "metadata": {
      "needs_background": "light"
     },
     "output_type": "display_data"
    }
   ],
   "source": [
    "sns.countplot(x='Status',data=uber)\n",
    "#BY THIS PLOT WE CAN CONCLUDE THAT COMPANY IS SUFFERING FROM A HUGE LOSS BECAUSE OF\n",
    "#STATUS(NO CARS AVAILABLE) SO THE UBER COMPANY HAD TO INCREASE THE NO OF CARS \n"
   ]
  },
  {
   "cell_type": "code",
   "execution_count": 7,
   "metadata": {},
   "outputs": [],
   "source": [
    "table = pd.crosstab(index=uber[\"Status\"], \n",
    "                          columns=uber[\"Request date\"])\n"
   ]
  },
  {
   "cell_type": "code",
   "execution_count": 8,
   "metadata": {},
   "outputs": [
    {
     "data": {
      "text/html": [
       "<div>\n",
       "<style scoped>\n",
       "    .dataframe tbody tr th:only-of-type {\n",
       "        vertical-align: middle;\n",
       "    }\n",
       "\n",
       "    .dataframe tbody tr th {\n",
       "        vertical-align: top;\n",
       "    }\n",
       "\n",
       "    .dataframe thead th {\n",
       "        text-align: right;\n",
       "    }\n",
       "</style>\n",
       "<table border=\"1\" class=\"dataframe\">\n",
       "  <thead>\n",
       "    <tr style=\"text-align: right;\">\n",
       "      <th>Request date</th>\n",
       "      <th>11/7/2016</th>\n",
       "      <th>12/7/2016</th>\n",
       "      <th>13-07-2016</th>\n",
       "      <th>14-07-2016</th>\n",
       "      <th>15-07-2016</th>\n",
       "    </tr>\n",
       "    <tr>\n",
       "      <th>Status</th>\n",
       "      <th></th>\n",
       "      <th></th>\n",
       "      <th></th>\n",
       "      <th></th>\n",
       "      <th></th>\n",
       "    </tr>\n",
       "  </thead>\n",
       "  <tbody>\n",
       "    <tr>\n",
       "      <th>Cancelled</th>\n",
       "      <td>262</td>\n",
       "      <td>240</td>\n",
       "      <td>270</td>\n",
       "      <td>252</td>\n",
       "      <td>240</td>\n",
       "    </tr>\n",
       "    <tr>\n",
       "      <th>No Cars Available</th>\n",
       "      <td>504</td>\n",
       "      <td>505</td>\n",
       "      <td>490</td>\n",
       "      <td>571</td>\n",
       "      <td>580</td>\n",
       "    </tr>\n",
       "    <tr>\n",
       "      <th>Trip Completed</th>\n",
       "      <td>601</td>\n",
       "      <td>562</td>\n",
       "      <td>577</td>\n",
       "      <td>530</td>\n",
       "      <td>561</td>\n",
       "    </tr>\n",
       "  </tbody>\n",
       "</table>\n",
       "</div>"
      ],
      "text/plain": [
       "Request date       11/7/2016  12/7/2016  13-07-2016  14-07-2016  15-07-2016\n",
       "Status                                                                     \n",
       "Cancelled                262        240         270         252         240\n",
       "No Cars Available        504        505         490         571         580\n",
       "Trip Completed           601        562         577         530         561"
      ]
     },
     "execution_count": 8,
     "metadata": {},
     "output_type": "execute_result"
    }
   ],
   "source": [
    "table\n",
    "#BY CROSSTAB WE CAN SEE THAT THE COMPANY IS FACING MAXIMUM LOSS ON THE DATE ON 14 AND 15\n",
    "#AS MAXIMUM NO OF CARS WERE NOT AVAILABLE ON THESE DAYS SO WE SHOULD AVAIL MORE CARS ON \n",
    "#THESE DAYS MOST OF THE TRIP HAD BEEN CANCELLED ON THE DATE 11 AND 13 WHICH RESULT IN LOSS\n",
    "#OF TIME AND MONEY"
   ]
  },
  {
   "cell_type": "code",
   "execution_count": 9,
   "metadata": {},
   "outputs": [],
   "source": [
    "table1= pd.crosstab(index=uber[\"Pickup point\"], \n",
    "                          columns=uber[\"Request date\"])\n"
   ]
  },
  {
   "cell_type": "code",
   "execution_count": 10,
   "metadata": {},
   "outputs": [
    {
     "data": {
      "text/html": [
       "<div>\n",
       "<style scoped>\n",
       "    .dataframe tbody tr th:only-of-type {\n",
       "        vertical-align: middle;\n",
       "    }\n",
       "\n",
       "    .dataframe tbody tr th {\n",
       "        vertical-align: top;\n",
       "    }\n",
       "\n",
       "    .dataframe thead th {\n",
       "        text-align: right;\n",
       "    }\n",
       "</style>\n",
       "<table border=\"1\" class=\"dataframe\">\n",
       "  <thead>\n",
       "    <tr style=\"text-align: right;\">\n",
       "      <th>Request date</th>\n",
       "      <th>11/7/2016</th>\n",
       "      <th>12/7/2016</th>\n",
       "      <th>13-07-2016</th>\n",
       "      <th>14-07-2016</th>\n",
       "      <th>15-07-2016</th>\n",
       "    </tr>\n",
       "    <tr>\n",
       "      <th>Pickup point</th>\n",
       "      <th></th>\n",
       "      <th></th>\n",
       "      <th></th>\n",
       "      <th></th>\n",
       "      <th></th>\n",
       "    </tr>\n",
       "  </thead>\n",
       "  <tbody>\n",
       "    <tr>\n",
       "      <th>Airport</th>\n",
       "      <td>661</td>\n",
       "      <td>684</td>\n",
       "      <td>663</td>\n",
       "      <td>601</td>\n",
       "      <td>629</td>\n",
       "    </tr>\n",
       "    <tr>\n",
       "      <th>City</th>\n",
       "      <td>706</td>\n",
       "      <td>623</td>\n",
       "      <td>674</td>\n",
       "      <td>752</td>\n",
       "      <td>752</td>\n",
       "    </tr>\n",
       "  </tbody>\n",
       "</table>\n",
       "</div>"
      ],
      "text/plain": [
       "Request date  11/7/2016  12/7/2016  13-07-2016  14-07-2016  15-07-2016\n",
       "Pickup point                                                          \n",
       "Airport             661        684         663         601         629\n",
       "City                706        623         674         752         752"
      ]
     },
     "execution_count": 10,
     "metadata": {},
     "output_type": "execute_result"
    }
   ],
   "source": [
    "table1\n",
    "#MORE CABS SHOULD BE AVAILABLE ON THE AIRPORT ON THE DATE 12/7/2016\n",
    "#AND REST DAYS MORE CABS SHOULD BE FREE ON THE CITY SIDE"
   ]
  },
  {
   "cell_type": "code",
   "execution_count": 27,
   "metadata": {},
   "outputs": [],
   "source": [
    "table3= pd.crosstab(index=uber[\"Pickup point\"], \n",
    "                          columns=uber[\"Request time\"])\n"
   ]
  },
  {
   "cell_type": "code",
   "execution_count": 26,
   "metadata": {},
   "outputs": [
    {
     "data": {
      "text/html": [
       "<div>\n",
       "<style scoped>\n",
       "    .dataframe tbody tr th:only-of-type {\n",
       "        vertical-align: middle;\n",
       "    }\n",
       "\n",
       "    .dataframe tbody tr th {\n",
       "        vertical-align: top;\n",
       "    }\n",
       "\n",
       "    .dataframe thead th {\n",
       "        text-align: right;\n",
       "    }\n",
       "</style>\n",
       "<table border=\"1\" class=\"dataframe\">\n",
       "  <thead>\n",
       "    <tr style=\"text-align: right;\">\n",
       "      <th>Request time</th>\n",
       "      <th>00:00:24</th>\n",
       "      <th>00:02:14</th>\n",
       "      <th>00:03:39</th>\n",
       "      <th>00:03:40</th>\n",
       "      <th>00:03:46</th>\n",
       "      <th>00:03:52</th>\n",
       "      <th>00:04:44</th>\n",
       "      <th>00:05:00</th>\n",
       "      <th>00:06:12</th>\n",
       "      <th>00:06:34</th>\n",
       "      <th>...</th>\n",
       "      <th>9:49</th>\n",
       "      <th>9:50</th>\n",
       "      <th>9:51</th>\n",
       "      <th>9:52</th>\n",
       "      <th>9:53</th>\n",
       "      <th>9:54</th>\n",
       "      <th>9:55</th>\n",
       "      <th>9:56</th>\n",
       "      <th>9:57</th>\n",
       "      <th>9:59</th>\n",
       "    </tr>\n",
       "    <tr>\n",
       "      <th>Pickup point</th>\n",
       "      <th></th>\n",
       "      <th></th>\n",
       "      <th></th>\n",
       "      <th></th>\n",
       "      <th></th>\n",
       "      <th></th>\n",
       "      <th></th>\n",
       "      <th></th>\n",
       "      <th></th>\n",
       "      <th></th>\n",
       "      <th></th>\n",
       "      <th></th>\n",
       "      <th></th>\n",
       "      <th></th>\n",
       "      <th></th>\n",
       "      <th></th>\n",
       "      <th></th>\n",
       "      <th></th>\n",
       "      <th></th>\n",
       "      <th></th>\n",
       "      <th></th>\n",
       "    </tr>\n",
       "  </thead>\n",
       "  <tbody>\n",
       "    <tr>\n",
       "      <th>Airport</th>\n",
       "      <td>0</td>\n",
       "      <td>1</td>\n",
       "      <td>1</td>\n",
       "      <td>1</td>\n",
       "      <td>0</td>\n",
       "      <td>1</td>\n",
       "      <td>0</td>\n",
       "      <td>1</td>\n",
       "      <td>0</td>\n",
       "      <td>1</td>\n",
       "      <td>...</td>\n",
       "      <td>0</td>\n",
       "      <td>1</td>\n",
       "      <td>0</td>\n",
       "      <td>0</td>\n",
       "      <td>0</td>\n",
       "      <td>0</td>\n",
       "      <td>1</td>\n",
       "      <td>2</td>\n",
       "      <td>0</td>\n",
       "      <td>1</td>\n",
       "    </tr>\n",
       "    <tr>\n",
       "      <th>City</th>\n",
       "      <td>1</td>\n",
       "      <td>0</td>\n",
       "      <td>0</td>\n",
       "      <td>0</td>\n",
       "      <td>1</td>\n",
       "      <td>0</td>\n",
       "      <td>1</td>\n",
       "      <td>0</td>\n",
       "      <td>1</td>\n",
       "      <td>0</td>\n",
       "      <td>...</td>\n",
       "      <td>1</td>\n",
       "      <td>3</td>\n",
       "      <td>1</td>\n",
       "      <td>3</td>\n",
       "      <td>1</td>\n",
       "      <td>4</td>\n",
       "      <td>2</td>\n",
       "      <td>2</td>\n",
       "      <td>2</td>\n",
       "      <td>4</td>\n",
       "    </tr>\n",
       "  </tbody>\n",
       "</table>\n",
       "<p>2 rows × 5012 columns</p>\n",
       "</div>"
      ],
      "text/plain": [
       "Request time  00:00:24  00:02:14  00:03:39  00:03:40  00:03:46  00:03:52  \\\n",
       "Pickup point                                                               \n",
       "Airport              0         1         1         1         0         1   \n",
       "City                 1         0         0         0         1         0   \n",
       "\n",
       "Request time  00:04:44  00:05:00  00:06:12  00:06:34  ...   9:49  9:50  9:51  \\\n",
       "Pickup point                                          ...                      \n",
       "Airport              0         1         0         1  ...      0     1     0   \n",
       "City                 1         0         1         0  ...      1     3     1   \n",
       "\n",
       "Request time  9:52  9:53  9:54  9:55  9:56  9:57  9:59  \n",
       "Pickup point                                            \n",
       "Airport          0     0     0     1     2     0     1  \n",
       "City             3     1     4     2     2     2     4  \n",
       "\n",
       "[2 rows x 5012 columns]"
      ]
     },
     "execution_count": 26,
     "metadata": {},
     "output_type": "execute_result"
    }
   ],
   "source": [
    "table3\n",
    "#FROM TABLE3 WE CAN CONCLUDE THAT MOST OF THE PASSENGERS NEED CAB AT THE MORNING TIME IE\n",
    "#FROM 5AM TO 10 AM FROM THE AIRPORT MAY BE SOME PLANE ARRIVAL TIME CAN BE IN THESE TIME \n",
    "#INTERVALS SO  CARS SHOULD BE AVAILABLE IN THE AIRPORT SIDE IN THE MORNING TIME"
   ]
  },
  {
   "cell_type": "code",
   "execution_count": 23,
   "metadata": {},
   "outputs": [],
   "source": [
    "#CHANGING THE DATATYPE TO (datetime)\n",
    "uber1=pd.to_datetime(uber['Request time'])\n"
   ]
  },
  {
   "cell_type": "code",
   "execution_count": 20,
   "metadata": {},
   "outputs": [],
   "source": [
    "table10= pd.crosstab(index=uber[\"Status\"], \n",
    "                          columns=uber[\"Pickup point\"])\n"
   ]
  },
  {
   "cell_type": "code",
   "execution_count": 24,
   "metadata": {},
   "outputs": [
    {
     "data": {
      "text/html": [
       "<div>\n",
       "<style scoped>\n",
       "    .dataframe tbody tr th:only-of-type {\n",
       "        vertical-align: middle;\n",
       "    }\n",
       "\n",
       "    .dataframe tbody tr th {\n",
       "        vertical-align: top;\n",
       "    }\n",
       "\n",
       "    .dataframe thead th {\n",
       "        text-align: right;\n",
       "    }\n",
       "</style>\n",
       "<table border=\"1\" class=\"dataframe\">\n",
       "  <thead>\n",
       "    <tr style=\"text-align: right;\">\n",
       "      <th>Pickup point</th>\n",
       "      <th>Airport</th>\n",
       "      <th>City</th>\n",
       "    </tr>\n",
       "    <tr>\n",
       "      <th>Status</th>\n",
       "      <th></th>\n",
       "      <th></th>\n",
       "    </tr>\n",
       "  </thead>\n",
       "  <tbody>\n",
       "    <tr>\n",
       "      <th>Cancelled</th>\n",
       "      <td>198</td>\n",
       "      <td>1066</td>\n",
       "    </tr>\n",
       "    <tr>\n",
       "      <th>No Cars Available</th>\n",
       "      <td>1713</td>\n",
       "      <td>937</td>\n",
       "    </tr>\n",
       "    <tr>\n",
       "      <th>Trip Completed</th>\n",
       "      <td>1327</td>\n",
       "      <td>1504</td>\n",
       "    </tr>\n",
       "  </tbody>\n",
       "</table>\n",
       "</div>"
      ],
      "text/plain": [
       "Pickup point       Airport  City\n",
       "Status                          \n",
       "Cancelled              198  1066\n",
       "No Cars Available     1713   937\n",
       "Trip Completed        1327  1504"
      ]
     },
     "execution_count": 24,
     "metadata": {},
     "output_type": "execute_result"
    }
   ],
   "source": [
    "table10\n",
    "#we can see most of the cars were not available from the airport so \n",
    "#the no of cars should be increased on the airport side\n",
    "#ALSO THE POINT SHOULD BE NOTED THAT MOST OF THE TRIP WAS CANCELLED FROM CITY SIDE \n"
   ]
  },
  {
   "cell_type": "code",
   "execution_count": null,
   "metadata": {},
   "outputs": [],
   "source": []
  },
  {
   "cell_type": "code",
   "execution_count": null,
   "metadata": {},
   "outputs": [],
   "source": []
  }
 ],
 "metadata": {
  "kernelspec": {
   "display_name": "Python 3",
   "language": "python",
   "name": "python3"
  },
  "language_info": {
   "codemirror_mode": {
    "name": "ipython",
    "version": 3
   },
   "file_extension": ".py",
   "mimetype": "text/x-python",
   "name": "python",
   "nbconvert_exporter": "python",
   "pygments_lexer": "ipython3",
   "version": "3.7.1"
  }
 },
 "nbformat": 4,
 "nbformat_minor": 2
}
